{
  "nbformat": 4,
  "nbformat_minor": 0,
  "metadata": {
    "colab": {
      "provenance": []
    },
    "kernelspec": {
      "name": "python3",
      "display_name": "Python 3"
    },
    "language_info": {
      "name": "python"
    }
  },
  "cells": [
    {
      "cell_type": "code",
      "execution_count": 1,
      "metadata": {
        "colab": {
          "base_uri": "https://localhost:8080/"
        },
        "id": "WFd26LG7csG1",
        "outputId": "386ebba1-6e67-4a64-a6ac-c5d24d46424c"
      },
      "outputs": [
        {
          "output_type": "stream",
          "name": "stdout",
          "text": [
            "Mounted at /content/drive\n"
          ]
        }
      ],
      "source": [
        "from google.colab import drive\n",
        "\n",
        "drive.mount('/content/drive')"
      ]
    },
    {
      "cell_type": "code",
      "source": [
        "!pip install pyspark"
      ],
      "metadata": {
        "colab": {
          "base_uri": "https://localhost:8080/"
        },
        "id": "zEq3y_hfcuzL",
        "outputId": "11f6c73c-9642-461f-8af2-3d74ae8ee739"
      },
      "execution_count": 2,
      "outputs": [
        {
          "output_type": "stream",
          "name": "stdout",
          "text": [
            "Looking in indexes: https://pypi.org/simple, https://us-python.pkg.dev/colab-wheels/public/simple/\n",
            "Collecting pyspark\n",
            "  Downloading pyspark-3.4.0.tar.gz (310.8 MB)\n",
            "\u001b[2K     \u001b[90m━━━━━━━━━━━━━━━━━━━━━━━━━━━━━━━━━━━━━━━\u001b[0m \u001b[32m310.8/310.8 MB\u001b[0m \u001b[31m3.9 MB/s\u001b[0m eta \u001b[36m0:00:00\u001b[0m\n",
            "\u001b[?25h  Preparing metadata (setup.py) ... \u001b[?25l\u001b[?25hdone\n",
            "Requirement already satisfied: py4j==0.10.9.7 in /usr/local/lib/python3.10/dist-packages (from pyspark) (0.10.9.7)\n",
            "Building wheels for collected packages: pyspark\n",
            "  Building wheel for pyspark (setup.py) ... \u001b[?25l\u001b[?25hdone\n",
            "  Created wheel for pyspark: filename=pyspark-3.4.0-py2.py3-none-any.whl size=311317145 sha256=6407b42ce431c25eb6d98ddfe1e456e1406ba0f035da8fe568d95fcb732baf95\n",
            "  Stored in directory: /root/.cache/pip/wheels/7b/1b/4b/3363a1d04368e7ff0d408e57ff57966fcdf00583774e761327\n",
            "Successfully built pyspark\n",
            "Installing collected packages: pyspark\n",
            "Successfully installed pyspark-3.4.0\n"
          ]
        }
      ]
    },
    {
      "cell_type": "code",
      "source": [
        "from pyspark.sql import SparkSession\n",
        "\n",
        "spark = SparkSession.builder \\\n",
        "        .master(\"local\") \\\n",
        "        .appName(\"Google Drive and PySpark\") \\\n",
        "        .getOrCreate()"
      ],
      "metadata": {
        "id": "LJIs3_Sac7Jt"
      },
      "execution_count": 3,
      "outputs": []
    },
    {
      "cell_type": "code",
      "source": [
        "file_path = '/content/drive/MyDrive/iotmdf/Parking_Violations_Issued_-_Fiscal_Year_2020.csv'\n",
        "\n",
        "df = spark.read \\\n",
        "    .option(\"header\", \"true\") \\\n",
        "    .option(\"inferSchema\", \"true\") \\\n",
        "    .csv(file_path)\n"
      ],
      "metadata": {
        "id": "60b1fpJIdJSG"
      },
      "execution_count": 4,
      "outputs": []
    },
    {
      "cell_type": "code",
      "source": [
        "df.show(10)\n",
        "num=len(df.columns)\n",
        "\n",
        "print(num)"
      ],
      "metadata": {
        "colab": {
          "base_uri": "https://localhost:8080/"
        },
        "id": "fbtFL3T1dOa8",
        "outputId": "670bddd9-940a-4698-c4cc-a21786bc4e76"
      },
      "execution_count": 5,
      "outputs": [
        {
          "output_type": "stream",
          "name": "stdout",
          "text": [
            "+--------------+--------+------------------+----------+--------------------+--------------+-----------------+------------+--------------+------------+------------+------------+-----------------------+------------------+------------------+---------------+-----------+--------------+------------+--------------+-------------------+----------------+---------------------------------+------------+-------------------+-------------------+-------------------+-----------+------------+--------------------+----------------------+--------------------+------------------+-------------+---------------------+------------+------------+--------------+-------------------+---------------------+---------------------------------+-----------------+------------------------+\n",
            "|Summons Number|Plate ID|Registration State|Plate Type|          Issue Date|Violation Code|Vehicle Body Type|Vehicle Make|Issuing Agency|Street Code1|Street Code2|Street Code3|Vehicle Expiration Date|Violation Location|Violation Precinct|Issuer Precinct|Issuer Code|Issuer Command|Issuer Squad|Violation Time|Time First Observed|Violation County|Violation In Front Of Or Opposite|House Number|        Street Name|Intersecting Street|Date First Observed|Law Section|Sub Division|Violation Legal Code|Days Parking In Effect|From Hours In Effect|To Hours In Effect|Vehicle Color|Unregistered Vehicle?|Vehicle Year|Meter Number|Feet From Curb|Violation Post Code|Violation Description|No Standing or Stopping Violation|Hydrant Violation|Double Parking Violation|\n",
            "+--------------+--------+------------------+----------+--------------------+--------------+-----------------+------------+--------------+------------+------------+------------+-----------------------+------------------+------------------+---------------+-----------+--------------+------------+--------------+-------------------+----------------+---------------------------------+------------+-------------------+-------------------+-------------------+-----------+------------+--------------------+----------------------+--------------------+------------------+-------------+---------------------+------------+------------+--------------+-------------------+---------------------+---------------------------------+-----------------+------------------------+\n",
            "|    1477633194|  J58JKX|                NJ|       PAS|05/08/1972 12:00:...|            16|              SDN|       HONDA|             P|        8730|        5130|        5280|                      0|                72|                72|            504|     342924|          T504|        0000|         0523P|               null|               K|                                F|         270|              43 ST|               null|                  0|        408|          E2|                null|               YYYYYBB|               0800A|             0400P|           BK|                    0|           0|           -|             0|               null|                 null|                             null|             null|                    null|\n",
            "|    1449715424| KRE6058|                PA|       PAS|08/29/1977 12:00:...|            98|             SUBN|       ME/BE|             P|       86530|       71800|       73110|                      0|                77|                77|             77|     961115|          0077|        0000|         0428P|               null|               K|                                F|        1953|           UNION ST|               null|                  0|        408|          F1|                null|               BBBBBBB|                 ALL|               ALL|          BLK|                    0|           0|           -|             0|               null|                 null|                             null|             null|                    null|\n",
            "|    1455779155| 444326R|                NJ|       PAS|10/03/1988 12:00:...|            20|              SDN|       LEXUS|             P|       27030|       41330|       69230|                      0|                88|                88|            730|     535422|          T730|        0000|         0625A|               null|               K|                                O|          45|    CLERMONT AVENUE|               null|                  0|        408|           D|                null|               BBBBBBB|                 ALL|               ALL|        BLACK|                    0|           0|           -|             0|               null|                 null|                             null|             null|                    null|\n",
            "|    1458800908| F728330|                OH|       PAS|01/03/1990 12:00:...|            21|              SDN|       CHEVR|             P|       33030|       93630|       58730|                      0|                90|                90|            301|     355074|          T301|        0000|         1106A|               null|               K|                                F|         218|       DIVISION AVE|               null|                  0|        408|           C|                null|               BYBBYBB|               1100A|             1230P|         null|                    0|           0|           -|             0|               null|                 null|                             null|             null|                    null|\n",
            "|    1466038676| FMY9090|                NY|       PAS|02/14/1990 12:00:...|            21|             SUBN|        JEEP|             S|       45130|       23930|       68130|               20210915|                90|                90|              0|     668676|          KNBO|        0000|         1253A|               null|               K|                                F|         850|           GRAND ST|               null|                  0|        408|          D1|                null|               BYBBYBB|               1200A|             0300A|         GREY|                    0|        2015|           -|             0|               null|                 null|                             null|             null|                    null|\n",
            "|    1440657920| KDG0693|                PA|       PAS|07/21/1990 12:00:...|            14|             SUBN|        HYUN|             P|       33440|       62200|           0|               20191231|               100|               100|            100|     963999|          0100|        0000|         0525P|               null|               Q|                             null|        null|            B 99 ST|   SHORE FRONT PKWY|                  0|        408|           C|                null|               BBBBBBB|                 ALL|               ALL|           GY|                    0|           0|           -|             0|               null|                 null|                             null|             null|                    null|\n",
            "|    1460987810| 79928MG|                NY|       COM|09/19/1990 12:00:...|            48|             DELV|       INTER|             P|           0|           0|           0|               20200531|                 1|                 1|            401|     958976|          0401|        0000|         1120A|               null|              NY|                             null|        null|W/S/O WASHINGTON ST|      S/O SPRING ST|                  0|        408|          E9|                null|               BBBBBBB|                 ALL|               ALL|           WH|                    0|        2015|           -|             0|               null|                 null|                             null|             null|                    null|\n",
            "|    1449130203| JJJ8186|                NY|       PAS|10/14/1990 12:00:...|            14|             SUBN|         BMW|             P|       10020|       27480|       27540|               20210710|                52|                52|             52|     964971|          0052|        0000|         0320A|               null|              BX|                                F|        2734|     BAINBRIDGE AVE|               null|                  0|        408|          F2|                null|               BBBBBBB|                 ALL|               ALL|          BLK|                    0|        2010|           -|             0|               null|                 null|                             null|             null|                    null|\n",
            "|    1451300189| DKD6024|                NC|       PAS|07/25/1991 12:00:...|            98|              SDN|        FORD|             P|       11280|       54137|        5430|               20190930|                68|                68|             68|     945183|          0068|        0000|         0843P|               null|               K|                                F|         372|              94 ST|               null|                  0|        408|          C3|                null|               BBBBBBB|                 ALL|               ALL|         GREY|                    0|           0|           -|             0|               null|                 null|                             null|             null|                    null|\n",
            "|    1464768973|  6542FR|                99|       PAS|01/01/2000 12:00:...|            40|             SUBN|       CMCKU|             P|       18070|       25390|       27790|                      0|                17|                17|            405|     930288|          0405|        0000|         0739P|               null|            null|                                F|          65|            E 54 ST|               null|                  0|        408|           C|                null|               BBBBBBB|                 ALL|               ALL|          RED|                    0|           0|           -|             2|               null|                 null|                             null|             null|                    null|\n",
            "+--------------+--------+------------------+----------+--------------------+--------------+-----------------+------------+--------------+------------+------------+------------+-----------------------+------------------+------------------+---------------+-----------+--------------+------------+--------------+-------------------+----------------+---------------------------------+------------+-------------------+-------------------+-------------------+-----------+------------+--------------------+----------------------+--------------------+------------------+-------------+---------------------+------------+------------+--------------+-------------------+---------------------+---------------------------------+-----------------+------------------------+\n",
            "only showing top 10 rows\n",
            "\n",
            "43\n"
          ]
        }
      ]
    },
    {
      "cell_type": "code",
      "source": [
        "limited_df = df.limit(100000)"
      ],
      "metadata": {
        "id": "bIZnd-awDhU9"
      },
      "execution_count": 6,
      "outputs": []
    },
    {
      "cell_type": "code",
      "source": [
        "num_rows = df.count()\n",
        "print(\"Number of rows: \", num_rows)\n",
        "\n",
        "numy=limited_df.count()\n",
        "print(\"Number of limited df: \", numy)"
      ],
      "metadata": {
        "colab": {
          "base_uri": "https://localhost:8080/"
        },
        "id": "mBxPCZa9dxvQ",
        "outputId": "4279381a-5998-4473-de2e-a0436d93e941"
      },
      "execution_count": 119,
      "outputs": [
        {
          "output_type": "stream",
          "name": "stdout",
          "text": [
            "Number of rows:  12495734\n",
            "Number of limited df:  100000\n"
          ]
        }
      ]
    },
    {
      "cell_type": "code",
      "source": [
        "from pyspark.sql.types import StringType"
      ],
      "metadata": {
        "id": "3c7-iyMymIrJ"
      },
      "execution_count": 120,
      "outputs": []
    },
    {
      "cell_type": "code",
      "source": [
        "\n",
        "dtypes = df.dtypes\n",
        "\n",
        "\n",
        "print(dtypes)"
      ],
      "metadata": {
        "colab": {
          "base_uri": "https://localhost:8080/"
        },
        "id": "YoMTCz68fWfo",
        "outputId": "9532b0df-5df6-4cab-ed71-42ca22c219b3"
      },
      "execution_count": 122,
      "outputs": [
        {
          "output_type": "stream",
          "name": "stdout",
          "text": [
            "[('Summons Number', 'bigint'), ('Plate ID', 'string'), ('Registration State', 'string'), ('Plate Type', 'string'), ('Issue Date', 'string'), ('Violation Code', 'int'), ('Vehicle Body Type', 'string'), ('Vehicle Make', 'string'), ('Issuing Agency', 'string'), ('Street Code1', 'int'), ('Street Code2', 'int'), ('Street Code3', 'int'), ('Vehicle Expiration Date', 'int'), ('Violation Location', 'int'), ('Violation Precinct', 'int'), ('Issuer Precinct', 'int'), ('Issuer Code', 'int'), ('Issuer Command', 'string'), ('Issuer Squad', 'string'), ('Violation Time', 'string'), ('Time First Observed', 'string'), ('Violation County', 'string'), ('Violation In Front Of Or Opposite', 'string'), ('House Number', 'string'), ('Street Name', 'string'), ('Intersecting Street', 'string'), ('Date First Observed', 'int'), ('Law Section', 'int'), ('Sub Division', 'string'), ('Violation Legal Code', 'string'), ('Days Parking In Effect', 'string'), ('From Hours In Effect', 'string'), ('To Hours In Effect', 'string'), ('Vehicle Color', 'string'), ('Unregistered Vehicle?', 'int'), ('Vehicle Year', 'int'), ('Meter Number', 'string'), ('Feet From Curb', 'int'), ('Violation Post Code', 'string'), ('Violation Description', 'string'), ('No Standing or Stopping Violation', 'string'), ('Hydrant Violation', 'string'), ('Double Parking Violation', 'string')]\n"
          ]
        }
      ]
    },
    {
      "cell_type": "code",
      "source": [
        "\n",
        "\n",
        "columns_to_keep = [\"Registration State\", \"Plate Type\", \"Street Code1\",\"Street Code2\",\"Street Code3\",\"Violation Code\",\"Issue Date\",\"Vehicle Body Type\",\"Vehicle Color\",\"Violation Precinct\",\"Violation Time\",\"Violation County\"]\n",
        "\n",
        "new_df = limited_df.select(*columns_to_keep)\n",
        "\n",
        "numy=len(new_df.columns)\n",
        "\n",
        "new_df.show()\n",
        "print(numy)"
      ],
      "metadata": {
        "colab": {
          "base_uri": "https://localhost:8080/"
        },
        "id": "ExtT451ltkFT",
        "outputId": "0353c3c1-5176-4b27-e4a1-a85a53a15d7e"
      },
      "execution_count": 123,
      "outputs": [
        {
          "output_type": "stream",
          "name": "stdout",
          "text": [
            "+------------------+----------+------------+------------+------------+--------------+--------------------+-----------------+-------------+------------------+--------------+----------------+\n",
            "|Registration State|Plate Type|Street Code1|Street Code2|Street Code3|Violation Code|          Issue Date|Vehicle Body Type|Vehicle Color|Violation Precinct|Violation Time|Violation County|\n",
            "+------------------+----------+------------+------------+------------+--------------+--------------------+-----------------+-------------+------------------+--------------+----------------+\n",
            "|                NJ|       PAS|        8730|        5130|        5280|            16|05/08/1972 12:00:...|              SDN|           BK|                72|         0523P|               K|\n",
            "|                PA|       PAS|       86530|       71800|       73110|            98|08/29/1977 12:00:...|             SUBN|          BLK|                77|         0428P|               K|\n",
            "|                NJ|       PAS|       27030|       41330|       69230|            20|10/03/1988 12:00:...|              SDN|        BLACK|                88|         0625A|               K|\n",
            "|                OH|       PAS|       33030|       93630|       58730|            21|01/03/1990 12:00:...|              SDN|         null|                90|         1106A|               K|\n",
            "|                NY|       PAS|       45130|       23930|       68130|            21|02/14/1990 12:00:...|             SUBN|         GREY|                90|         1253A|               K|\n",
            "|                PA|       PAS|       33440|       62200|           0|            14|07/21/1990 12:00:...|             SUBN|           GY|               100|         0525P|               Q|\n",
            "|                NY|       COM|           0|           0|           0|            48|09/19/1990 12:00:...|             DELV|           WH|                 1|         1120A|              NY|\n",
            "|                NY|       PAS|       10020|       27480|       27540|            14|10/14/1990 12:00:...|             SUBN|          BLK|                52|         0320A|              BX|\n",
            "|                NC|       PAS|       11280|       54137|        5430|            98|07/25/1991 12:00:...|              SDN|         GREY|                68|         0843P|               K|\n",
            "|                99|       PAS|       18070|       25390|       27790|            40|01/01/2000 12:00:...|             SUBN|          RED|                17|         0739P|            null|\n",
            "|                NY|       PAS|       73470|       48330|       56230|            74|01/02/2000 12:00:...|              SDN|         GREY|                73|         1020A|            null|\n",
            "|                NY|       PAS|       26670|       52120|       20720|            46|01/02/2000 12:00:...|              SDN|         GRAY|                44|         0936P|              BX|\n",
            "|                NY|       PAS|       73470|       48330|       56230|            24|01/02/2000 12:00:...|              SDN|        BLACK|                73|         1030A|               K|\n",
            "|                NY|       PAS|       73470|       48330|       56230|            24|01/02/2000 12:00:...|              SDN|        BLACK|                73|         1015A|               K|\n",
            "|                ME|       PAS|       59030|       73690|       67030|            21|01/03/2000 12:00:...|             SUBN|          TAN|                67|         0952A|               K|\n",
            "|                NY|       PAS|       73470|       48330|       56230|            74|01/03/2000 12:00:...|              SDN|        SILVE|                73|         0815A|               K|\n",
            "|                GV|       PAS|       18150|       10210|       10110|            14|01/08/2000 12:00:...|             DELV|           WH|                 0|         0410P|              BX|\n",
            "|                NY|       COM|       36270|       11710|       27390|            46|01/10/2000 12:00:...|             DELV|           BN|                26|         0605P|              NY|\n",
            "|                NC|       PAS|       36630|       14030|       14080|            99|01/11/2000 12:00:...|              TRK|           WH|                63|         0825P|            null|\n",
            "|                NY|       COM|        8780|        5010|        5130|            71|01/12/2000 12:00:...|              VAN|           WH|                72|         0854A|               K|\n",
            "+------------------+----------+------------+------------+------------+--------------+--------------------+-----------------+-------------+------------------+--------------+----------------+\n",
            "only showing top 20 rows\n",
            "\n",
            "12\n"
          ]
        }
      ]
    },
    {
      "cell_type": "code",
      "source": [
        "df_cleaned = new_df.na.drop()\n",
        "\n",
        "df_cleaned.show()"
      ],
      "metadata": {
        "colab": {
          "base_uri": "https://localhost:8080/"
        },
        "id": "QTamrn0T1dMe",
        "outputId": "49ad9aed-77c3-48b1-dde7-89f0bbc1c30e"
      },
      "execution_count": 97,
      "outputs": [
        {
          "output_type": "stream",
          "name": "stdout",
          "text": [
            "+------------------+----------+------------+------------+------------+--------------+--------------------+-----------------+-------------+------------------+--------------+----------------+\n",
            "|Registration State|Plate Type|Street Code1|Street Code2|Street Code3|Violation Code|          Issue Date|Vehicle Body Type|Vehicle Color|Violation Precinct|Violation Time|Violation County|\n",
            "+------------------+----------+------------+------------+------------+--------------+--------------------+-----------------+-------------+------------------+--------------+----------------+\n",
            "|                NJ|       PAS|        8730|        5130|        5280|            16|05/08/1972 12:00:...|              SDN|           BK|                72|         0523P|               K|\n",
            "|                PA|       PAS|       86530|       71800|       73110|            98|08/29/1977 12:00:...|             SUBN|          BLK|                77|         0428P|               K|\n",
            "|                NJ|       PAS|       27030|       41330|       69230|            20|10/03/1988 12:00:...|              SDN|        BLACK|                88|         0625A|               K|\n",
            "|                NY|       PAS|       45130|       23930|       68130|            21|02/14/1990 12:00:...|             SUBN|         GREY|                90|         1253A|               K|\n",
            "|                PA|       PAS|       33440|       62200|           0|            14|07/21/1990 12:00:...|             SUBN|           GY|               100|         0525P|               Q|\n",
            "|                NY|       COM|           0|           0|           0|            48|09/19/1990 12:00:...|             DELV|           WH|                 1|         1120A|              NY|\n",
            "|                NY|       PAS|       10020|       27480|       27540|            14|10/14/1990 12:00:...|             SUBN|          BLK|                52|         0320A|              BX|\n",
            "|                NC|       PAS|       11280|       54137|        5430|            98|07/25/1991 12:00:...|              SDN|         GREY|                68|         0843P|               K|\n",
            "|                NY|       PAS|       26670|       52120|       20720|            46|01/02/2000 12:00:...|              SDN|         GRAY|                44|         0936P|              BX|\n",
            "|                NY|       PAS|       73470|       48330|       56230|            24|01/02/2000 12:00:...|              SDN|        BLACK|                73|         1030A|               K|\n",
            "|                NY|       PAS|       73470|       48330|       56230|            24|01/02/2000 12:00:...|              SDN|        BLACK|                73|         1015A|               K|\n",
            "|                ME|       PAS|       59030|       73690|       67030|            21|01/03/2000 12:00:...|             SUBN|          TAN|                67|         0952A|               K|\n",
            "|                NY|       PAS|       73470|       48330|       56230|            74|01/03/2000 12:00:...|              SDN|        SILVE|                73|         0815A|               K|\n",
            "|                GV|       PAS|       18150|       10210|       10110|            14|01/08/2000 12:00:...|             DELV|           WH|                 0|         0410P|              BX|\n",
            "|                NY|       COM|       36270|       11710|       27390|            46|01/10/2000 12:00:...|             DELV|           BN|                26|         0605P|              NY|\n",
            "|                NY|       COM|        8780|        5010|        5130|            71|01/12/2000 12:00:...|              VAN|           WH|                72|         0854A|               K|\n",
            "|                NY|       COM|       17870|       10110|       10010|            14|01/14/2000 12:00:...|              VAN|          WHT|                 0|         0416P|              NY|\n",
            "|                IN|       PAS|       10810|       34270|       34290|            19|01/14/2000 12:00:...|             DELV|           WH|                 0|         0903A|              NY|\n",
            "|                NJ|       PAS|       27790|       18130|       18150|            14|01/15/2000 12:00:...|             DELV|           WH|                 0|         0854A|              NY|\n",
            "|                NY|       PAS|       58030|       85730|       85330|            21|01/17/2000 12:00:...|              SDN|         GRAY|                79|         0952A|               K|\n",
            "+------------------+----------+------------+------------+------------+--------------+--------------------+-----------------+-------------+------------------+--------------+----------------+\n",
            "only showing top 20 rows\n",
            "\n"
          ]
        }
      ]
    },
    {
      "cell_type": "code",
      "source": [
        "num_rows=df_cleaned.count()\n",
        "print(num_rows)"
      ],
      "metadata": {
        "colab": {
          "base_uri": "https://localhost:8080/"
        },
        "id": "ZW-b1p-tA4KJ",
        "outputId": "172bcda5-1d45-4507-ae5f-80dae62bb368"
      },
      "execution_count": 115,
      "outputs": [
        {
          "output_type": "stream",
          "name": "stdout",
          "text": [
            "89018\n"
          ]
        }
      ]
    },
    {
      "cell_type": "code",
      "source": [
        "distinct_count = df_cleaned.select(\"Violation Code\").distinct().count()\n",
        "\n",
        "print(f\"The number of distinct values in the 'violation_code' column is: {distinct_count}\")"
      ],
      "metadata": {
        "colab": {
          "base_uri": "https://localhost:8080/"
        },
        "id": "7g8jfmUcDeOd",
        "outputId": "0d0cbaa6-ecb9-4a64-ea8d-ac6b35bac6bc"
      },
      "execution_count": 124,
      "outputs": [
        {
          "output_type": "stream",
          "name": "stdout",
          "text": [
            "The number of distinct values in the 'violation_code' column is: 35\n"
          ]
        }
      ]
    },
    {
      "cell_type": "code",
      "source": [
        "from pyspark.sql.functions import col, desc\n",
        "\n",
        "\n",
        "aggregated_data = df_cleaned.groupBy(\"Violation Code\").count()\n",
        "\n",
        "\n",
        "total_count = aggregated_data.agg({\"count\": \"sum\"}).collect()[0][0]\n",
        "\n",
        "\n",
        "sorted_data = aggregated_data.sort(desc(\"count\"))\n",
        "\n",
        "threshold = 0.99 * total_count\n",
        "accumulated_count = 0\n",
        "codes_responsible_99_percent = []\n",
        "\n",
        "for row in sorted_data.collect():\n",
        "    accumulated_count += row[\"count\"]\n",
        "    codes_responsible_99_percent.append(row[\"Violation Code\"])\n",
        "\n",
        "    if accumulated_count >= threshold:\n",
        "        break\n",
        "\n",
        "num_distinct_codes_99_percent = len(codes_responsible_99_percent)\n",
        "\n",
        "print(f\"Number of distinct violation codes responsible for 99% of the rows: {num_distinct_codes_99_percent}\")"
      ],
      "metadata": {
        "colab": {
          "base_uri": "https://localhost:8080/"
        },
        "id": "Wem68q8EDkal",
        "outputId": "baff4b63-1da9-49be-e08d-c324b3bdb1e3"
      },
      "execution_count": 125,
      "outputs": [
        {
          "output_type": "stream",
          "name": "stdout",
          "text": [
            "Number of distinct violation codes responsible for 99% of the rows: 29\n"
          ]
        }
      ]
    },
    {
      "cell_type": "code",
      "source": [
        "import matplotlib.pyplot as plt\n",
        "\n",
        "num_distinct_codes_not_99_percent = df_cleaned.select(\"Violation Code\").distinct().count() - num_distinct_codes_99_percent\n",
        "\n",
        "categories = ['99% of Rows', 'Others']\n",
        "values = [num_distinct_codes_99_percent, num_distinct_codes_not_99_percent]\n",
        "\n",
        "\n",
        "plt.bar(categories, values)\n",
        "plt.xlabel('Categories')\n",
        "plt.ylabel('Number of Violation Codes')\n",
        "plt.title('Violation Codes Responsible for 99% of Rows vs Others')\n",
        "plt.show()\n"
      ],
      "metadata": {
        "colab": {
          "base_uri": "https://localhost:8080/",
          "height": 472
        },
        "id": "ZaINe98IDkXA",
        "outputId": "403a9f27-5e7b-4c01-eccb-29b3f952a974"
      },
      "execution_count": 126,
      "outputs": [
        {
          "output_type": "display_data",
          "data": {
            "text/plain": [
              "<Figure size 640x480 with 1 Axes>"
            ],
            "image/png": "[encoded data removed]"
          },
          "metadata": {}
        }
      ]
    },
    {
      "cell_type": "code",
      "source": [
        "from pyspark.sql.functions import col\n",
        "\n",
        "df_cleaned = df_cleaned.filter(col(\"Violation Code\").isin(codes_responsible_99_percent))"
      ],
      "metadata": {
        "id": "5JDPqRdFDkTs"
      },
      "execution_count": 132,
      "outputs": []
    },
    {
      "cell_type": "code",
      "source": [
        "violation_counts = df_cleaned.groupBy(\"Violation Code\").count().sort(\"count\", ascending=False)\n",
        "top_violations = violation_counts.take(10)\n",
        "\n",
        "print(top_violations)\n"
      ],
      "metadata": {
        "colab": {
          "base_uri": "https://localhost:8080/"
        },
        "id": "5oCi7_JgijrP",
        "outputId": "506b5915-3d3b-4d3a-f868-031abc30d22c"
      },
      "execution_count": 128,
      "outputs": [
        {
          "output_type": "stream",
          "name": "stdout",
          "text": [
            "[Row(Violation Code=7, count=25573), Row(Violation Code=5, count=24754), Row(Violation Code=21, count=14343), Row(Violation Code=14, count=4245), Row(Violation Code=36, count=3810), Row(Violation Code=46, count=2793), Row(Violation Code=20, count=1611), Row(Violation Code=40, count=1559), Row(Violation Code=98, count=1172), Row(Violation Code=19, count=1156)]\n"
          ]
        }
      ]
    },
    {
      "cell_type": "code",
      "source": [
        "\n",
        "from pyspark.sql import SparkSession\n",
        "import matplotlib.pyplot as plt\n",
        "\n",
        "spark = SparkSession.builder \\\n",
        "    .appName(\"Parking Violations Analysis\") \\\n",
        "    .getOrCreate()\n",
        "\n",
        "    \n",
        "violation_codes, counts = zip(*[(row[\"Violation Code\"], row[\"count\"]) for row in top_violations])\n",
        "\n",
        "\n",
        "bar_width = 1 \n",
        "spacing = 2  \n",
        "bar_positions = [i * spacing for i in range(len(violation_codes))]\n",
        "plt.bar(bar_positions, counts, width=bar_width)\n",
        "plt.xlabel(\"Violation Code\")\n",
        "plt.ylabel(\"Count\")\n",
        "plt.title(\"Top 10 Parking Violation Codes\")\n",
        "\n",
        "tick_positions = [pos + bar_width / 2 for pos in bar_positions]\n",
        "plt.xticks(tick_positions,violation_codes)\n",
        "\n",
        "plt.xlim(-bar_width, max(bar_positions) + bar_width + spacing)\n",
        "\n",
        "\n",
        "plt.show()\n",
        "\n",
        "\n",
        "\n"
      ],
      "metadata": {
        "colab": {
          "base_uri": "https://localhost:8080/",
          "height": 472
        },
        "id": "usBpXbUmi6ML",
        "outputId": "5afdea07-58d0-4657-b53d-860997cc164d"
      },
      "execution_count": 133,
      "outputs": [
        {
          "output_type": "display_data",
          "data": {
            "text/plain": [
              "<Figure size 640x480 with 1 Axes>"
            ],
            "image/png": "[encoded data removed]"
          },
          "metadata": {}
        }
      ]
    },
    {
      "cell_type": "code",
      "source": [
        "from pyspark.sql.functions import to_date, col\n",
        "date_format = \"MM/dd/yyyy\"\n",
        "df_cleaned = df_cleaned.withColumn(\"Issue Date\", to_date(col(\"Issue Date\"), date_format))\n",
        "\n",
        "df_counts = df_cleaned.groupBy(month(\"Issue Date\").alias(\"month\")).agg(count(\"*\").alias(\"count\"))\n"
      ],
      "metadata": {
        "id": "rBXJAbmQKpPu"
      },
      "execution_count": 136,
      "outputs": []
    },
    {
      "cell_type": "code",
      "source": [
        "from pyspark.sql.functions import count, month\n",
        "from pyspark.sql import SparkSession\n",
        "import calendar\n",
        "\n",
        "spark = SparkSession.builder.appName(\"MyApp\") \\\n",
        "    .config(\"spark.sql.legacy.timeParserPolicy\", \"LEGACY\") \\\n",
        "    .getOrCreate()\n",
        "\n",
        "df_counts = df_cleaned.groupBy(month(\"Issue Date\").alias(\"month\")).agg(count(\"*\").alias(\"count\"))\n",
        "df_counts = df_counts.sort(\"month\")\n",
        "df_counts_pd = df_counts.toPandas()\n",
        "df_counts_pd = df_counts_pd[df_counts_pd[\"month\"].notnull()]\n",
        "df_counts_pd[\"month\"] = df_counts_pd[\"month\"].astype(int)\n",
        "\n",
        "import matplotlib.pyplot as plt\n",
        "\n",
        "plt.figure(figsize=(10, 6))\n",
        "plt.title(\"Number of Violations by Month\")\n",
        "plt.xlabel(\"Month\")\n",
        "plt.ylabel(\"Count\")\n",
        "plt.bar(df_counts_pd[\"month\"], df_counts_pd[\"count\"])\n",
        "\n",
        "unique_months = df_counts_pd[\"month\"].unique()\n",
        "month_labels = [calendar.month_name[month_idx] for month_idx in unique_months]\n",
        "plt.xticks(unique_months, month_labels, rotation=45)\n",
        "\n",
        "plt.show()\n",
        "\n"
      ],
      "metadata": {
        "colab": {
          "base_uri": "https://localhost:8080/",
          "height": 614
        },
        "id": "367EEo9ktLsU",
        "outputId": "074eef36-f967-481d-b614-6af15ab6a5d9"
      },
      "execution_count": 137,
      "outputs": [
        {
          "output_type": "display_data",
          "data": {
            "text/plain": [
              "<Figure size 1000x600 with 1 Axes>"
            ],
            "image/png": "[encoded data removed]"
          },
          "metadata": {}
        }
      ]
    },
    {
      "cell_type": "code",
      "source": [
        "from pyspark.sql.functions import desc\n",
        "\n",
        "\n",
        "state_counts = df_cleaned.groupBy('Registration State').count()\n",
        "\n",
        "state_counts = state_counts.orderBy(desc('count'))\n",
        "\n",
        "\n",
        "state_counts.show(10)"
      ],
      "metadata": {
        "colab": {
          "base_uri": "https://localhost:8080/"
        },
        "id": "kDrw1KUlfaoe",
        "outputId": "673c1ba3-4095-4822-b912-cbb975406bff"
      },
      "execution_count": 55,
      "outputs": [
        {
          "output_type": "stream",
          "name": "stdout",
          "text": [
            "+------------------+-----+\n",
            "|Registration State|count|\n",
            "+------------------+-----+\n",
            "|                NY|72831|\n",
            "|                NJ| 7327|\n",
            "|                FL| 1416|\n",
            "|                PA| 1323|\n",
            "|                VA|  753|\n",
            "|                IN|  543|\n",
            "|                CT|  516|\n",
            "|                ME|  500|\n",
            "|                MA|  374|\n",
            "|                TX|  271|\n",
            "+------------------+-----+\n",
            "only showing top 10 rows\n",
            "\n"
          ]
        }
      ]
    },
    {
      "cell_type": "code",
      "source": [
        "import matplotlib.pyplot as plt\n",
        "import pandas as pd\n",
        "\n",
        "state_counts_pd = state_counts.toPandas()\n",
        "\n",
        "\n",
        "plt.figure(figsize=(12, 6))\n",
        "plt.bar(state_counts_pd['Registration State'][:10], state_counts_pd['count'][:10])\n",
        "plt.xlabel('Registration State')\n",
        "plt.ylabel('Count')\n",
        "plt.title('Top 10 States by Count')\n",
        "\n",
        "plt.show()\n"
      ],
      "metadata": {
        "colab": {
          "base_uri": "https://localhost:8080/",
          "height": 564
        },
        "id": "dMv8ixGysivE",
        "outputId": "c4da3d18-84cc-43d7-91df-321c5567a9f9"
      },
      "execution_count": 56,
      "outputs": [
        {
          "output_type": "display_data",
          "data": {
            "text/plain": [
              "<Figure size 1200x600 with 1 Axes>"
            ],
            "image/png": "[encoded data removed]"
          },
          "metadata": {}
        }
      ]
    },
    {
      "cell_type": "code",
      "source": [
        "\n",
        "color_counts = df_cleaned.groupBy('Vehicle Color').count()\n",
        "\n",
        "\n",
        "top_colors = color_counts.orderBy('count', ascending=False).limit(40)\n",
        "\n",
        "\n",
        "top_colors.show()\n",
        "\n"
      ],
      "metadata": {
        "colab": {
          "base_uri": "https://localhost:8080/"
        },
        "id": "HXHajFWV93Zz",
        "outputId": "602c466c-deb2-4dbf-d4aa-4aec8d215251"
      },
      "execution_count": 60,
      "outputs": [
        {
          "output_type": "stream",
          "name": "stdout",
          "text": [
            "+-------------+-----+\n",
            "|Vehicle Color|count|\n",
            "+-------------+-----+\n",
            "|         grey|20933|\n",
            "|           BK|16831|\n",
            "|        white|14481|\n",
            "|         blue| 5230|\n",
            "|        WHITE| 3460|\n",
            "|          red| 3400|\n",
            "|          BLK| 3238|\n",
            "|        BLACK| 2363|\n",
            "|       silver| 2038|\n",
            "|         BLUE| 1804|\n",
            "|          RED| 1647|\n",
            "|          WHT| 1561|\n",
            "|         GREY| 1328|\n",
            "|        brown| 1241|\n",
            "|       yellow| 1145|\n",
            "|           WT|  931|\n",
            "|           TN|  818|\n",
            "|        GREEN|  403|\n",
            "|        BROWN|  374|\n",
            "|          TAN|  354|\n",
            "+-------------+-----+\n",
            "only showing top 20 rows\n",
            "\n"
          ]
        }
      ]
    },
    {
      "cell_type": "code",
      "source": [
        "from pyspark.sql.functions import regexp_replace, when\n",
        "from pyspark.sql.functions import lower\n",
        "\n",
        "\n",
        "\n",
        "df_cleaned = df_cleaned.withColumn('Vehicle Color', when(df_cleaned['Vehicle Color'].isin(['SL', 'SILVR', 'SIL', 'SILVE','sl.']), 'silver')\n",
        "                                 .otherwise(df_cleaned['Vehicle Color']))\n",
        "\n",
        "\n",
        "df_cleaned = df_cleaned.withColumn('Vehicle Color', when(df_cleaned['Vehicle Color'].isin(['dark blue', 'BL','blu']), 'blue')\n",
        "                                 .when(df_cleaned['Vehicle Color'] == 'dark green', 'green')\n",
        "                                 .when(df_cleaned['Vehicle Color'].isin(['blk', 'bl', 'bk','bk.','tn','bl.']), 'black')\n",
        "                                 .when(df_cleaned['Vehicle Color'].isin(['WH','wt','wt.']), 'white')\n",
        "                                 .when(df_cleaned['Vehicle Color'].isin(['GY', 'GR', 'GL','gy','GRY','gry','gray','GRAY','gy.']), 'grey')\n",
        "                                 .when(df_cleaned['Vehicle Color'].isin(['whi','wh','wht','why','WH']), 'white')\n",
        "                                 .when(df_cleaned['Vehicle Color'].isin(['YW']), 'yellow')\n",
        "                                 .when(df_cleaned['Vehicle Color'].isin(['RD','rd']), 'red')\n",
        "                                 .when(df_cleaned['Vehicle Color'].isin(['BR','br']), 'brown')\n",
        "                                 .when(df_cleaned['Vehicle Color'].isin(['yello','yw']), 'yellow')\n",
        "                                 .when(df_cleaned['Vehicle Color'].isin(['gr','GR','gl']), 'green')\n",
        "                                 .when(df_cleaned['Vehicle Color'].isin(['or','mn','mr','orang']), 'orange')\n",
        "                                 .otherwise(df_cleaned['Vehicle Color']))\n",
        "\n",
        "\n",
        "df_cleaned = df_cleaned.withColumn('Vehicle Color', lower(df_cleaned['Vehicle Color']))\n",
        "\n"
      ],
      "metadata": {
        "id": "Ry4x7DuNHjw3"
      },
      "execution_count": 63,
      "outputs": []
    },
    {
      "cell_type": "code",
      "source": [
        "\n",
        "color_counts = df_cleaned.groupBy('Vehicle Color').count()\n",
        "\n",
        "\n",
        "top_colors = color_counts.orderBy('count', ascending=False).limit(10)\n",
        "\n",
        "\n",
        "top_colors.show()"
      ],
      "metadata": {
        "colab": {
          "base_uri": "https://localhost:8080/"
        },
        "id": "PACr3imzKn-5",
        "outputId": "5190415e-3768-4344-f29a-3f4180aa6734"
      },
      "execution_count": 64,
      "outputs": [
        {
          "output_type": "stream",
          "name": "stdout",
          "text": [
            "+-------------+-----+\n",
            "|Vehicle Color|count|\n",
            "+-------------+-----+\n",
            "|        black|23283|\n",
            "|         grey|22282|\n",
            "|        white|20797|\n",
            "|         blue| 7381|\n",
            "|          red| 5047|\n",
            "|       silver| 2051|\n",
            "|        brown| 1616|\n",
            "|       yellow| 1394|\n",
            "|       orange|  480|\n",
            "|        green|  403|\n",
            "+-------------+-----+\n",
            "\n"
          ]
        }
      ]
    },
    {
      "cell_type": "code",
      "source": [
        "import matplotlib.pyplot as plt\n",
        "\n",
        "top_colors_pd = top_colors.toPandas()\n",
        "\n",
        "plt.figure(figsize=(10, 6))\n",
        "plt.bar(top_colors_pd['Vehicle Color'], top_colors_pd['count'])\n",
        "plt.xlabel('Vehicle Color')\n",
        "plt.ylabel('Number of Violations')\n",
        "plt.title('Top Colors by Violation Count')\n",
        "\n",
        "legend_elements = [plt.Rectangle((0,0), 1, 1, color='b', label='Top 5 Colors'),                   plt.Rectangle((0,0), 1, 1, color='gray', label='Other Colors')]\n",
        "plt.legend(handles=legend_elements)\n",
        "\n",
        "\n",
        "colors = ['b', 'b', 'b', 'b', 'b'] + ['gray'] * (len(top_colors_pd)-5)\n",
        "for bar, color in zip(plt.gca().patches, colors):\n",
        "    bar.set_facecolor(color)\n",
        "\n",
        "plt.show()\n"
      ],
      "metadata": {
        "colab": {
          "base_uri": "https://localhost:8080/",
          "height": 564
        },
        "id": "LfIT_U3dzFRH",
        "outputId": "b5edfb31-395a-470e-d83d-f003bddad2c6"
      },
      "execution_count": 138,
      "outputs": [
        {
          "output_type": "display_data",
          "data": {
            "text/plain": [
              "<Figure size 1000x600 with 1 Axes>"
            ],
            "image/png": "[encoded data removed]"
          },
          "metadata": {}
        }
      ]
    },
    {
      "cell_type": "code",
      "source": [
        "from pyspark.ml import Pipeline\n",
        "from pyspark.ml.feature import StringIndexer, OneHotEncoder, VectorAssembler\n",
        "from pyspark.ml.regression import LinearRegression\n",
        "from pyspark.sql import SparkSession\n"
      ],
      "metadata": {
        "id": "g08o0keGR3cz"
      },
      "execution_count": 139,
      "outputs": []
    },
    {
      "cell_type": "code",
      "source": [
        "spark = SparkSession.builder \\\n",
        "    .appName(\"StringIndexer and OneHotEncoder Example\") \\\n",
        "    .getOrCreate()\n"
      ],
      "metadata": {
        "id": "pSP2tZLFVDqL"
      },
      "execution_count": 140,
      "outputs": []
    },
    {
      "cell_type": "code",
      "source": [
        "from pyspark.sql.functions import date_format\n",
        "\n",
        "df_cleaned = df_cleaned.withColumn(\"Issue Date\", date_format(\"Issue Date\", \"yyyy-MM-dd\"))\n"
      ],
      "metadata": {
        "id": "chZgd1TG0bdA"
      },
      "execution_count": 141,
      "outputs": []
    },
    {
      "cell_type": "code",
      "source": [
        "categorical_columns = ['Registration State', 'Plate Type', 'Issue Date', 'Vehicle Body Type', 'Vehicle Color', 'Violation Time', 'Violation County']\n",
        "numerical_columns = ['Street Code1', 'Street Code2', 'Street Code3', 'Violation Precinct']\n"
      ],
      "metadata": {
        "id": "EpMSqP8zVJGQ"
      },
      "execution_count": 142,
      "outputs": []
    },
    {
      "cell_type": "code",
      "source": [
        "indexers = [StringIndexer(inputCol=column, outputCol=column+\"_index\") for column in categorical_columns]\n",
        "encoders = [OneHotEncoder(inputCol=column+\"_index\", outputCol=column+\"_onehot\") for column in categorical_columns]\n"
      ],
      "metadata": {
        "id": "yVGMERxsV1-U"
      },
      "execution_count": 143,
      "outputs": []
    },
    {
      "cell_type": "code",
      "source": [
        "assembler = VectorAssembler(inputCols=[column+\"_onehot\" for column in categorical_columns] + numerical_columns, outputCol=\"features\")\n"
      ],
      "metadata": {
        "id": "cUjN-rESV9x2"
      },
      "execution_count": 144,
      "outputs": []
    },
    {
      "cell_type": "code",
      "source": [
        "pipeline = Pipeline(stages=indexers + encoders + [assembler])\n",
        "model = pipeline.fit(df_cleaned)\n",
        "\n",
        "transformed_data = model.transform(df_cleaned)\n",
        "\n",
        "selected_columns = transformed_data.select(\"features\", \"Violation Code\")\n",
        "\n",
        "\n",
        "selected_columns.show()\n",
        "transformed_data.show()\n",
        "\n",
        "df_cleaned.first()\n"
      ],
      "metadata": {
        "colab": {
          "base_uri": "https://localhost:8080/"
        },
        "id": "hZh6s_QFWGiP",
        "outputId": "c808a353-1e55-4e60-a1fb-f9202e74b2f7"
      },
      "execution_count": 145,
      "outputs": [
        {
          "output_type": "stream",
          "name": "stdout",
          "text": [
            "+--------------------+--------------+\n",
            "|            features|Violation Code|\n",
            "+--------------------+--------------+\n",
            "|(2866,[1,57,356,6...|            16|\n",
            "|(2866,[3,57,357,6...|            98|\n",
            "|(2866,[1,57,358,6...|            20|\n",
            "|(2866,[0,57,359,6...|            21|\n",
            "|(2866,[3,57,360,6...|            14|\n",
            "|(2866,[0,57,361,6...|            14|\n",
            "|(2866,[14,57,362,...|            98|\n",
            "|(2866,[0,57,239,6...|            46|\n",
            "|(2866,[0,57,239,6...|            24|\n",
            "|(2866,[0,57,239,6...|            24|\n",
            "|(2866,[7,57,270,6...|            21|\n",
            "|(2866,[0,57,270,6...|            74|\n",
            "|(2866,[13,57,363,...|            14|\n",
            "|(2866,[0,59,364,6...|            46|\n",
            "|(2866,[0,59,365,6...|            71|\n",
            "|(2866,[0,59,271,6...|            14|\n",
            "|(2866,[8,57,271,6...|            19|\n",
            "|(2866,[1,57,366,6...|            14|\n",
            "|(2866,[0,57,367,6...|            21|\n",
            "|(2866,[0,57,368,6...|            40|\n",
            "+--------------------+--------------+\n",
            "only showing top 20 rows\n",
            "\n",
            "+------------------+----------+------------+------------+------------+--------------+----------+-----------------+-------------+------------------+--------------+----------------+------------------------+----------------+----------------+-----------------------+-------------------+--------------------+----------------------+-------------------------+-----------------+-----------------+------------------------+--------------------+---------------------+-----------------------+--------------------+\n",
            "|Registration State|Plate Type|Street Code1|Street Code2|Street Code3|Violation Code|Issue Date|Vehicle Body Type|Vehicle Color|Violation Precinct|Violation Time|Violation County|Registration State_index|Plate Type_index|Issue Date_index|Vehicle Body Type_index|Vehicle Color_index|Violation Time_index|Violation County_index|Registration State_onehot|Plate Type_onehot|Issue Date_onehot|Vehicle Body Type_onehot|Vehicle Color_onehot|Violation Time_onehot|Violation County_onehot|            features|\n",
            "+------------------+----------+------------+------------+------------+--------------+----------+-----------------+-------------+------------------+--------------+----------------+------------------------+----------------+----------------+-----------------------+-------------------+--------------------+----------------------+-------------------------+-----------------+-----------------+------------------------+--------------------+---------------------+-----------------------+--------------------+\n",
            "|                NJ|       PAS|        8730|        5130|        5280|            16|1972-05-08|              SDN|           BK|                72|         0523P|               K|                     1.0|             0.0|           256.0|                    2.0|                0.0|               279.0|                   3.0|           (57,[1],[1.0])|   (43,[0],[1.0])|(593,[256],[1.0])|         (270,[2],[1.0])|     (340,[0],[1.0])|   (1550,[279],[1.0])|          (9,[3],[1.0])|(2866,[1,57,356,6...|\n",
            "|                PA|       PAS|       86530|       71800|       73110|            98|1977-08-29|             SUBN|          BLK|                77|         0428P|               K|                     3.0|             0.0|           257.0|                    0.0|                6.0|               434.0|                   3.0|           (57,[3],[1.0])|   (43,[0],[1.0])|(593,[257],[1.0])|         (270,[0],[1.0])|     (340,[6],[1.0])|   (1550,[434],[1.0])|          (9,[3],[1.0])|(2866,[3,57,357,6...|\n",
            "|                NJ|       PAS|       27030|       41330|       69230|            20|1988-10-03|              SDN|        BLACK|                88|         0625A|               K|                     1.0|             0.0|           258.0|                    2.0|                7.0|               987.0|                   3.0|           (57,[1],[1.0])|   (43,[0],[1.0])|(593,[258],[1.0])|         (270,[2],[1.0])|     (340,[7],[1.0])|   (1550,[987],[1.0])|          (9,[3],[1.0])|(2866,[1,57,358,6...|\n",
            "|                NY|       PAS|       45130|       23930|       68130|            21|1990-02-14|             SUBN|         GREY|                90|         1253A|               K|                     0.0|             0.0|           259.0|                    0.0|               13.0|              1012.0|                   3.0|           (57,[0],[1.0])|   (43,[0],[1.0])|(593,[259],[1.0])|         (270,[0],[1.0])|    (340,[13],[1.0])|  (1550,[1012],[1.0])|          (9,[3],[1.0])|(2866,[0,57,359,6...|\n",
            "|                PA|       PAS|       33440|       62200|           0|            14|1990-07-21|             SUBN|           GY|               100|         0525P|               Q|                     3.0|             0.0|           260.0|                    0.0|                1.0|               103.0|                   6.0|           (57,[3],[1.0])|   (43,[0],[1.0])|(593,[260],[1.0])|         (270,[0],[1.0])|     (340,[1],[1.0])|   (1550,[103],[1.0])|          (9,[6],[1.0])|(2866,[3,57,360,6...|\n",
            "|                NY|       PAS|       10020|       27480|       27540|            14|1990-10-14|             SUBN|          BLK|                52|         0320A|              BX|                     0.0|             0.0|           261.0|                    0.0|                6.0|               884.0|                   1.0|           (57,[0],[1.0])|   (43,[0],[1.0])|(593,[261],[1.0])|         (270,[0],[1.0])|     (340,[6],[1.0])|   (1550,[884],[1.0])|          (9,[1],[1.0])|(2866,[0,57,361,6...|\n",
            "|                NC|       PAS|       11280|       54137|        5430|            98|1991-07-25|              SDN|         GREY|                68|         0843P|               K|                    14.0|             0.0|           262.0|                    2.0|               13.0|               920.0|                   3.0|          (57,[14],[1.0])|   (43,[0],[1.0])|(593,[262],[1.0])|         (270,[2],[1.0])|    (340,[13],[1.0])|   (1550,[920],[1.0])|          (9,[3],[1.0])|(2866,[14,57,362,...|\n",
            "|                NY|       PAS|       26670|       52120|       20720|            46|2000-01-02|              SDN|         GRAY|                44|         0936P|              BX|                     0.0|             0.0|           139.0|                    2.0|                8.0|               853.0|                   1.0|           (57,[0],[1.0])|   (43,[0],[1.0])|(593,[139],[1.0])|         (270,[2],[1.0])|     (340,[8],[1.0])|   (1550,[853],[1.0])|          (9,[1],[1.0])|(2866,[0,57,239,6...|\n",
            "|                NY|       PAS|       73470|       48330|       56230|            24|2000-01-02|              SDN|        BLACK|                73|         1030A|               K|                     0.0|             0.0|           139.0|                    2.0|                7.0|               137.0|                   3.0|           (57,[0],[1.0])|   (43,[0],[1.0])|(593,[139],[1.0])|         (270,[2],[1.0])|     (340,[7],[1.0])|   (1550,[137],[1.0])|          (9,[3],[1.0])|(2866,[0,57,239,6...|\n",
            "|                NY|       PAS|       73470|       48330|       56230|            24|2000-01-02|              SDN|        BLACK|                73|         1015A|               K|                     0.0|             0.0|           139.0|                    2.0|                7.0|                80.0|                   3.0|           (57,[0],[1.0])|   (43,[0],[1.0])|(593,[139],[1.0])|         (270,[2],[1.0])|     (340,[7],[1.0])|    (1550,[80],[1.0])|          (9,[3],[1.0])|(2866,[0,57,239,6...|\n",
            "|                ME|       PAS|       59030|       73690|       67030|            21|2000-01-03|             SUBN|          TAN|                67|         0952A|               K|                     7.0|             0.0|           170.0|                    0.0|               25.0|               112.0|                   3.0|           (57,[7],[1.0])|   (43,[0],[1.0])|(593,[170],[1.0])|         (270,[0],[1.0])|    (340,[25],[1.0])|   (1550,[112],[1.0])|          (9,[3],[1.0])|(2866,[7,57,270,6...|\n",
            "|                NY|       PAS|       73470|       48330|       56230|            74|2000-01-03|              SDN|        SILVE|                73|         0815A|               K|                     0.0|             0.0|           170.0|                    2.0|               14.0|                 3.0|                   3.0|           (57,[0],[1.0])|   (43,[0],[1.0])|(593,[170],[1.0])|         (270,[2],[1.0])|    (340,[14],[1.0])|     (1550,[3],[1.0])|          (9,[3],[1.0])|(2866,[0,57,270,6...|\n",
            "|                GV|       PAS|       18150|       10210|       10110|            14|2000-01-08|             DELV|           WH|                 0|         0410P|              BX|                    13.0|             0.0|           263.0|                    4.0|                2.0|                74.0|                   1.0|          (57,[13],[1.0])|   (43,[0],[1.0])|(593,[263],[1.0])|         (270,[4],[1.0])|     (340,[2],[1.0])|    (1550,[74],[1.0])|          (9,[1],[1.0])|(2866,[13,57,363,...|\n",
            "|                NY|       COM|       36270|       11710|       27390|            46|2000-01-10|             DELV|           BN|                26|         0605P|              NY|                     0.0|             2.0|           264.0|                    4.0|               38.0|                97.0|                   4.0|           (57,[0],[1.0])|   (43,[2],[1.0])|(593,[264],[1.0])|         (270,[4],[1.0])|    (340,[38],[1.0])|    (1550,[97],[1.0])|          (9,[4],[1.0])|(2866,[0,59,364,6...|\n",
            "|                NY|       COM|        8780|        5010|        5130|            71|2000-01-12|              VAN|           WH|                72|         0854A|               K|                     0.0|             2.0|           265.0|                    3.0|                2.0|               335.0|                   3.0|           (57,[0],[1.0])|   (43,[2],[1.0])|(593,[265],[1.0])|         (270,[3],[1.0])|     (340,[2],[1.0])|   (1550,[335],[1.0])|          (9,[3],[1.0])|(2866,[0,59,365,6...|\n",
            "|                NY|       COM|       17870|       10110|       10010|            14|2000-01-14|              VAN|          WHT|                 0|         0416P|              NY|                     0.0|             2.0|           171.0|                    3.0|               11.0|               210.0|                   4.0|           (57,[0],[1.0])|   (43,[2],[1.0])|(593,[171],[1.0])|         (270,[3],[1.0])|    (340,[11],[1.0])|   (1550,[210],[1.0])|          (9,[4],[1.0])|(2866,[0,59,271,6...|\n",
            "|                IN|       PAS|       10810|       34270|       34290|            19|2000-01-14|             DELV|           WH|                 0|         0903A|              NY|                     8.0|             0.0|           171.0|                    4.0|                2.0|               302.0|                   4.0|           (57,[8],[1.0])|   (43,[0],[1.0])|(593,[171],[1.0])|         (270,[4],[1.0])|     (340,[2],[1.0])|   (1550,[302],[1.0])|          (9,[4],[1.0])|(2866,[8,57,271,6...|\n",
            "|                NJ|       PAS|       27790|       18130|       18150|            14|2000-01-15|             DELV|           WH|                 0|         0854A|              NY|                     1.0|             0.0|           266.0|                    4.0|                2.0|               335.0|                   4.0|           (57,[1],[1.0])|   (43,[0],[1.0])|(593,[266],[1.0])|         (270,[4],[1.0])|     (340,[2],[1.0])|   (1550,[335],[1.0])|          (9,[4],[1.0])|(2866,[1,57,366,6...|\n",
            "|                NY|       PAS|       58030|       85730|       85330|            21|2000-01-17|              SDN|         GRAY|                79|         0952A|               K|                     0.0|             0.0|           267.0|                    2.0|                8.0|               112.0|                   3.0|           (57,[0],[1.0])|   (43,[0],[1.0])|(593,[267],[1.0])|         (270,[2],[1.0])|     (340,[8],[1.0])|   (1550,[112],[1.0])|          (9,[3],[1.0])|(2866,[0,57,367,6...|\n",
            "|                NY|       PAS|       61690|       30190|       30240|            40|2000-01-19|             SUBN|           GY|               101|         0340A|               Q|                     0.0|             0.0|           268.0|                    0.0|                1.0|              1101.0|                   6.0|           (57,[0],[1.0])|   (43,[0],[1.0])|(593,[268],[1.0])|         (270,[0],[1.0])|     (340,[1],[1.0])|  (1550,[1101],[1.0])|          (9,[6],[1.0])|(2866,[0,57,368,6...|\n",
            "+------------------+----------+------------+------------+------------+--------------+----------+-----------------+-------------+------------------+--------------+----------------+------------------------+----------------+----------------+-----------------------+-------------------+--------------------+----------------------+-------------------------+-----------------+-----------------+------------------------+--------------------+---------------------+-----------------------+--------------------+\n",
            "only showing top 20 rows\n",
            "\n"
          ]
        },
        {
          "output_type": "execute_result",
          "data": {
            "text/plain": [
              "Row(Registration State='NJ', Plate Type='PAS', Street Code1=8730, Street Code2=5130, Street Code3=5280, Violation Code=16, Issue Date='1972-05-08', Vehicle Body Type='SDN', Vehicle Color='BK', Violation Precinct=72, Violation Time='0523P', Violation County='K')"
            ]
          },
          "metadata": {},
          "execution_count": 145
        }
      ]
    },
    {
      "cell_type": "code",
      "source": [
        "train_data, test_data = transformed_data.randomSplit([0.6, 0.4], seed=222)\n",
        "\n"
      ],
      "metadata": {
        "id": "vFbaPdRzpGiX"
      },
      "execution_count": 78,
      "outputs": []
    },
    {
      "cell_type": "code",
      "source": [
        "from pyspark.ml.classification import LogisticRegression\n",
        "\n",
        "logr = LogisticRegression(featuresCol=\"features\", labelCol=\"Violation Code\")\n",
        "logr_Model = logr.fit(train_data)\n",
        "\n"
      ],
      "metadata": {
        "id": "JH-oQCSaq1_l"
      },
      "execution_count": 79,
      "outputs": []
    },
    {
      "cell_type": "code",
      "source": [
        "predictions = logr_Model.transform(test_data)\n",
        "\n"
      ],
      "metadata": {
        "id": "pLzx9FFYWxRN"
      },
      "execution_count": 80,
      "outputs": []
    },
    {
      "cell_type": "code",
      "source": [
        "\n",
        "from pyspark.ml.evaluation import MulticlassClassificationEvaluator"
      ],
      "metadata": {
        "id": "n4iP2ZV9Hjvp"
      },
      "execution_count": 81,
      "outputs": []
    },
    {
      "cell_type": "code",
      "source": [
        "evaluator = MulticlassClassificationEvaluator(\n",
        "    labelCol=\"Violation Code\", predictionCol=\"prediction\", metricName=\"accuracy\"\n",
        ")\n",
        "\n",
        "# Calculate the accuracy\n",
        "accuracy = evaluator.evaluate(predictions)\n",
        "print(f\"Accuracy: {accuracy}\")"
      ],
      "metadata": {
        "colab": {
          "base_uri": "https://localhost:8080/"
        },
        "id": "f14TplFiHFCw",
        "outputId": "2f746f54-983a-4cda-ff76-0f682f67d72b"
      },
      "execution_count": 95,
      "outputs": [
        {
          "output_type": "stream",
          "name": "stdout",
          "text": [
            "Accuracy: 0.6788259485648291\n"
          ]
        }
      ]
    },
    {
      "cell_type": "code",
      "source": [
        "from pyspark.sql import functions as F\n",
        "\n",
        "from sklearn.metrics import confusion_matrix\n",
        "\n",
        "y_true = predictions.select(\"Violation Code\")\n",
        "y_true = y_true.toPandas()\n",
        "\n",
        "y_pred = predictions.select(\"prediction\").withColumn('pred_label', F.when(F.col('prediction') > 0.5, 1).otherwise(0))\n",
        "y_pred = y_pred.select('pred_label').toPandas()\n",
        "\n",
        "y_true = y_true.squeeze()\n",
        "y_pred = y_pred.squeeze()\n",
        "\n",
        "cnf_matrix = confusion_matrix(y_true, y_pred)\n",
        "print(cnf_matrix)\n"
      ],
      "metadata": {
        "colab": {
          "base_uri": "https://localhost:8080/"
        },
        "id": "CMs-vu7f3KkK",
        "outputId": "9280b2b7-12ef-431e-bc5e-7257705ad703"
      },
      "execution_count": 90,
      "outputs": [
        {
          "output_type": "stream",
          "name": "stdout",
          "text": [
            "[[    0     0     0 ...     0     0     0]\n",
            " [ 9993     0     0 ...     0     0     0]\n",
            " [10322     0     0 ...     0     0     0]\n",
            " ...\n",
            " [   60     0     0 ...     0     0     0]\n",
            " [  114     0     0 ...     0     0     0]\n",
            " [  428     0     0 ...     0     0     0]]\n"
          ]
        }
      ]
    },
    {
      "cell_type": "code",
      "source": [
        "from pyspark.ml.evaluation import MulticlassClassificationEvaluator, BinaryClassificationEvaluator\n",
        "\n",
        "\n",
        "precision_evaluator = MulticlassClassificationEvaluator(\n",
        "    labelCol=\"Violation Code\", predictionCol=\"prediction\", metricName=\"weightedPrecision\"\n",
        ")\n",
        "precision = precision_evaluator.evaluate(predictions)\n",
        "\n",
        "\n",
        "recall_evaluator = MulticlassClassificationEvaluator(\n",
        "    labelCol=\"Violation Code\", predictionCol=\"prediction\", metricName=\"weightedRecall\"\n",
        ")\n",
        "recall = recall_evaluator.evaluate(predictions)\n",
        "\n",
        "\n",
        "f1_evaluator = MulticlassClassificationEvaluator(\n",
        "    labelCol=\"Violation Code\", predictionCol=\"prediction\", metricName=\"f1\"\n",
        ")\n",
        "f1_score = f1_evaluator.evaluate(predictions)\n",
        "\n",
        "print(f\"Precision: {precision}\")\n",
        "print(f\"Recall: {recall}\")\n",
        "print(f\"F1-score: {f1_score}\")"
      ],
      "metadata": {
        "colab": {
          "base_uri": "https://localhost:8080/"
        },
        "id": "83QFoJLJ5M2T",
        "outputId": "296cfa8f-88d1-4705-a65d-3398b0ec8886"
      },
      "execution_count": 96,
      "outputs": [
        {
          "output_type": "stream",
          "name": "stdout",
          "text": [
            "Precision: 0.6678919022350095\n",
            "Recall: 0.678825948564829\n",
            "F1-score: 0.6717782443652827\n"
          ]
        }
      ]
    }
  ]
}